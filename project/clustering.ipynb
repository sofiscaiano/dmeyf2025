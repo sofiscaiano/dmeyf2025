{
 "cells": [
  {
   "metadata": {
    "ExecuteTime": {
     "end_time": "2025-09-14T12:00:46.465549Z",
     "start_time": "2025-09-14T12:00:46.462340Z"
    }
   },
   "cell_type": "code",
   "source": [
    "import pandas as pd\n",
    "import numpy as np\n",
    "from sklearn.ensemble import RandomForestClassifier\n",
    "from scipy.cluster.hierarchy import linkage, dendrogram\n",
    "import matplotlib.pyplot as plt\n"
   ],
   "id": "c159edf155de54ee",
   "outputs": [],
   "execution_count": 7
  },
  {
   "metadata": {
    "ExecuteTime": {
     "end_time": "2025-09-14T12:00:49.462884Z",
     "start_time": "2025-09-14T12:00:49.459460Z"
    }
   },
   "cell_type": "code",
   "source": [
    "import sys\n",
    "print(sys.executable)"
   ],
   "id": "b4ccf6b70958f1fb",
   "outputs": [
    {
     "name": "stdout",
     "output_type": "stream",
     "text": [
      "/Users/sofiascaiano/Documents/maestria/Data Mining EyF/churn/venv/bin/python\n"
     ]
    }
   ],
   "execution_count": 8
  },
  {
   "metadata": {
    "ExecuteTime": {
     "end_time": "2025-09-14T12:01:03.090533Z",
     "start_time": "2025-09-14T12:00:52.734224Z"
    }
   },
   "cell_type": "code",
   "source": "df = pd.read_csv(\"/Users/sofiascaiano/Documents/maestria/Data Mining EyF/datasets/competencia_01_target.csv\")",
   "id": "b7e7ad6263b9ff68",
   "outputs": [
    {
     "name": "stderr",
     "output_type": "stream",
     "text": [
      "/var/folders/8q/7djkg4_55rsgfbzr3shf6lsc0000gn/T/ipykernel_49270/4054144402.py:1: DtypeWarning: Columns (154) have mixed types. Specify dtype option on import or set low_memory=False.\n",
      "  df = pd.read_csv(\"/Users/sofiascaiano/Documents/maestria/Data Mining EyF/datasets/competencia_01_target.csv\")\n"
     ]
    }
   ],
   "execution_count": 9
  },
  {
   "metadata": {
    "ExecuteTime": {
     "end_time": "2025-09-14T11:48:38.149050Z",
     "start_time": "2025-09-14T11:48:38.139130Z"
    }
   },
   "cell_type": "code",
   "source": "df.info()",
   "id": "4efe25215e9fe5ab",
   "outputs": [
    {
     "name": "stdout",
     "output_type": "stream",
     "text": [
      "<class 'pandas.core.frame.DataFrame'>\n",
      "RangeIndex: 978439 entries, 0 to 978438\n",
      "Columns: 155 entries, numero_de_cliente to target\n",
      "dtypes: float64(89), int64(64), object(2)\n",
      "memory usage: 1.1+ GB\n"
     ]
    }
   ],
   "execution_count": 4
  },
  {
   "metadata": {
    "ExecuteTime": {
     "end_time": "2025-09-14T01:41:48.872313Z",
     "start_time": "2025-09-14T01:41:48.866342Z"
    }
   },
   "cell_type": "code",
   "source": "df['foto_mes'].head()",
   "id": "e692424b17c0cb8c",
   "outputs": [
    {
     "data": {
      "text/plain": [
       "0    2021-04-30\n",
       "1    2021-04-30\n",
       "2    2021-04-30\n",
       "3    2021-04-30\n",
       "4    2021-04-30\n",
       "Name: foto_mes, dtype: object"
      ]
     },
     "execution_count": 28,
     "metadata": {},
     "output_type": "execute_result"
    }
   ],
   "execution_count": 28
  },
  {
   "metadata": {
    "ExecuteTime": {
     "end_time": "2025-09-14T12:08:34.331820Z",
     "start_time": "2025-09-14T12:08:34.059429Z"
    }
   },
   "cell_type": "code",
   "source": [
    "X = df[(df['target'] == 'BAJA+2') & (df['foto_mes'] == '2021-04-30')].dropna(subset=['target']).drop(columns=['numero_de_cliente', 'foto_mes', 'target'])\n",
    "# y_dummy = np.zeros(len(X)) # Etiqueta ficticia\n",
    "# X = np.random.rand(1100, 150)"
   ],
   "id": "b25646a03866c232",
   "outputs": [],
   "execution_count": 14
  },
  {
   "metadata": {
    "ExecuteTime": {
     "end_time": "2025-09-14T13:22:45.818861Z",
     "start_time": "2025-09-14T13:22:18.214727Z"
    }
   },
   "cell_type": "code",
   "source": [
    "import numpy as np\n",
    "from sklearn.ensemble import RandomForestClassifier\n",
    "from sklearn.datasets import make_blobs\n",
    "from scipy.cluster.hierarchy import linkage, fcluster, dendrogram\n",
    "from scipy.spatial.distance import squareform\n",
    "import matplotlib.pyplot as plt\n",
    "\n",
    "# ==========================\n",
    "# 2. Generar datos sintéticos\n",
    "# ==========================\n",
    "X_synthetic = np.copy(X)\n",
    "for i in range(X.shape[1]):\n",
    "    np.random.shuffle(X_synthetic[:, i])\n",
    "\n",
    "X_combined = np.vstack((X, X_synthetic))\n",
    "y_combined = np.array([1]*len(X) + [0]*len(X_synthetic))\n",
    "\n",
    "# ==========================\n",
    "# 3. Entrenar Random Forest\n",
    "# ==========================\n",
    "rf = RandomForestClassifier(n_estimators=100, random_state=42, n_jobs=-1)\n",
    "rf.fit(X_combined, y_combined)\n",
    "\n",
    "# ==========================\n",
    "# 4. Calcular matriz de proximidad\n",
    "# ==========================\n",
    "leaves = rf.apply(X)\n",
    "n_samples, n_trees = leaves.shape\n",
    "\n",
    "proximity = np.zeros((n_samples, n_samples))\n",
    "for t in range(n_trees):\n",
    "    for i in range(n_samples):\n",
    "        for j in range(i, n_samples):\n",
    "            if leaves[i, t] == leaves[j, t]:\n",
    "                proximity[i, j] += 1\n",
    "                if i != j:\n",
    "                    proximity[j, i] += 1\n",
    "proximity /= n_trees\n",
    "\n",
    "# ==========================\n",
    "# 5. Distancia = 1 - proximidad\n",
    "# ==========================\n",
    "distance_matrix = 1 - proximity\n",
    "\n",
    "# Convertir a forma condensada\n",
    "distance_condensed = squareform(distance_matrix)\n"
   ],
   "id": "562adc5d46d74acc",
   "outputs": [
    {
     "name": "stderr",
     "output_type": "stream",
     "text": [
      "/Users/sofiascaiano/Documents/maestria/Data Mining EyF/churn/venv/lib/python3.9/site-packages/sklearn/base.py:486: UserWarning: X has feature names, but RandomForestClassifier was fitted without feature names\n",
      "  warnings.warn(\n"
     ]
    }
   ],
   "execution_count": 22
  },
  {
   "metadata": {
    "ExecuteTime": {
     "end_time": "2025-09-14T13:33:51.138807Z",
     "start_time": "2025-09-14T13:33:50.747756Z"
    }
   },
   "cell_type": "code",
   "source": [
    "# ==========================\n",
    "# 6. Clustering jerárquico con linkage()\n",
    "# ==========================\n",
    "Z = linkage(distance_condensed, method=\"ward\")  # 'average', 'complete', 'single'\n",
    "\n",
    "# Cortar el dendrograma \n",
    "labels = fcluster(Z, t=5, criterion=\"distance\")\n",
    "\n",
    "print(\"Clusters encontrados:\", np.unique(labels))\n",
    "\n",
    "# ==========================\n",
    "# 7. Dendrograma\n",
    "# ==========================\n",
    "plt.figure(figsize=(10, 5))\n",
    "dendrogram(Z, truncate_mode=\"level\", p=5, color_threshold=0.5*max(Z[:,2]))\n",
    "plt.title(\"Dendrograma (URF + linkage)\")\n",
    "plt.show()\n"
   ],
   "id": "c77ad3557abbc778",
   "outputs": [
    {
     "name": "stdout",
     "output_type": "stream",
     "text": [
      "Clusters encontrados: [1 2 3 4 5]\n"
     ]
    },
    {
     "data": {
      "text/plain": [
       "<Figure size 1000x500 with 1 Axes>"
      ],
      "image/png": "[encoded data removed]"
     },
     "metadata": {},
     "output_type": "display_data"
    }
   ],
   "execution_count": 25
  },
  {
   "metadata": {},
   "cell_type": "code",
   "outputs": [],
   "execution_count": null,
   "source": "",
   "id": "7560a9afc9295c09"
  }
 ],
 "metadata": {
  "kernelspec": {
   "display_name": "Python 3",
   "language": "python",
   "name": "python3"
  },
  "language_info": {
   "codemirror_mode": {
    "name": "ipython",
    "version": 2
   },
   "file_extension": ".py",
   "mimetype": "text/x-python",
   "name": "python",
   "nbconvert_exporter": "python",
   "pygments_lexer": "ipython2",
   "version": "2.7.6"
  }
 },
 "nbformat": 4,
 "nbformat_minor": 5
}
